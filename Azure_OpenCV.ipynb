{
 "cells": [
  {
   "cell_type": "code",
   "execution_count": 1,
   "id": "7f8c9b3a",
   "metadata": {},
   "outputs": [
    {
     "name": "stdout",
     "output_type": "stream",
     "text": [
      "Collecting azure-cognitiveservices-vision-computervision\n",
      "  Downloading azure_cognitiveservices_vision_computervision-0.9.1-py2.py3-none-any.whl.metadata (9.4 kB)\n",
      "Requirement already satisfied: msrest>=0.6.21 in c:\\anaconda\\lib\\site-packages (from azure-cognitiveservices-vision-computervision) (0.7.1)\n",
      "Requirement already satisfied: azure-common~=1.1 in c:\\anaconda\\lib\\site-packages (from azure-cognitiveservices-vision-computervision) (1.1.28)\n",
      "Requirement already satisfied: azure-core>=1.24.0 in c:\\anaconda\\lib\\site-packages (from msrest>=0.6.21->azure-cognitiveservices-vision-computervision) (1.34.0)\n",
      "Requirement already satisfied: certifi>=2017.4.17 in c:\\anaconda\\lib\\site-packages (from msrest>=0.6.21->azure-cognitiveservices-vision-computervision) (2025.1.31)\n",
      "Requirement already satisfied: isodate>=0.6.0 in c:\\anaconda\\lib\\site-packages (from msrest>=0.6.21->azure-cognitiveservices-vision-computervision) (0.7.2)\n",
      "Requirement already satisfied: requests-oauthlib>=0.5.0 in c:\\anaconda\\lib\\site-packages (from msrest>=0.6.21->azure-cognitiveservices-vision-computervision) (2.0.0)\n",
      "Requirement already satisfied: requests~=2.16 in c:\\anaconda\\lib\\site-packages (from msrest>=0.6.21->azure-cognitiveservices-vision-computervision) (2.32.3)\n",
      "Requirement already satisfied: six>=1.11.0 in c:\\anaconda\\lib\\site-packages (from azure-core>=1.24.0->msrest>=0.6.21->azure-cognitiveservices-vision-computervision) (1.16.0)\n",
      "Requirement already satisfied: typing-extensions>=4.6.0 in c:\\anaconda\\lib\\site-packages (from azure-core>=1.24.0->msrest>=0.6.21->azure-cognitiveservices-vision-computervision) (4.13.0)\n",
      "Requirement already satisfied: charset-normalizer<4,>=2 in c:\\anaconda\\lib\\site-packages (from requests~=2.16->msrest>=0.6.21->azure-cognitiveservices-vision-computervision) (3.3.2)\n",
      "Requirement already satisfied: idna<4,>=2.5 in c:\\anaconda\\lib\\site-packages (from requests~=2.16->msrest>=0.6.21->azure-cognitiveservices-vision-computervision) (3.7)\n",
      "Requirement already satisfied: urllib3<3,>=1.21.1 in c:\\anaconda\\lib\\site-packages (from requests~=2.16->msrest>=0.6.21->azure-cognitiveservices-vision-computervision) (2.2.3)\n",
      "Requirement already satisfied: oauthlib>=3.0.0 in c:\\anaconda\\lib\\site-packages (from requests-oauthlib>=0.5.0->msrest>=0.6.21->azure-cognitiveservices-vision-computervision) (3.3.1)\n",
      "Downloading azure_cognitiveservices_vision_computervision-0.9.1-py2.py3-none-any.whl (36 kB)\n",
      "Installing collected packages: azure-cognitiveservices-vision-computervision\n",
      "Successfully installed azure-cognitiveservices-vision-computervision-0.9.1\n"
     ]
    }
   ],
   "source": [
    "!pip install azure-cognitiveservices-vision-computervision"
   ]
  },
  {
   "cell_type": "code",
   "execution_count": 1,
   "id": "6b29a3d8",
   "metadata": {},
   "outputs": [],
   "source": [
    "import os\n",
    "import sys"
   ]
  },
  {
   "cell_type": "code",
   "execution_count": null,
   "id": "b76ba12b",
   "metadata": {},
   "outputs": [],
   "source": [
    "from azure.cognitiveservices.vision.computervision import ComputerVisionClient\n",
    "from azure.cognitiveservices.vision.computervision.models import VisualFeatureTypes\n",
    "from msrest.authentication import CognitiveServicesCredentials\n",
    "\n",
    "region = \"eastus\"\n",
    "key = 'Enter Your Key'\n",
    "\n",
    "credentials = CognitiveServicesCredentials(key)\n",
    "client = ComputerVisionClient(\n",
    "    endpoint = \"Enter your EndPoint Key\",\n",
    "    credentials = credentials\n",
    ")\n"
   ]
  },
  {
   "cell_type": "markdown",
   "id": "85a9e746",
   "metadata": {},
   "source": [
    "## Text Extraction from Aadhar Card"
   ]
  },
  {
   "cell_type": "code",
   "execution_count": 5,
   "id": "06dc0eac",
   "metadata": {},
   "outputs": [],
   "source": [
    "from azure.cognitiveservices.vision.computervision.models import OperationStatusCodes\n",
    "\n",
    "filename = r\"C:\\Users\\HP\\Pictures\\Aadhar Card.jpg\"\n",
    "raw = True\n",
    "numberOfCharsInOperationId = 36\n",
    "\n",
    "input_type = \"filename\"\n",
    "if input_type == \"url\":\n",
    "    rawHttpResponse = client.read(filename, language=\"en\", raw=True)\n",
    "else:\n",
    "    read_image = open(filename, \"rb\")\n",
    "    rawHttpResponse = client.read_in_stream(read_image, language=\"en\", raw=True)\n",
    "\n"
   ]
  },
  {
   "cell_type": "code",
   "execution_count": 6,
   "id": "71da4d7e",
   "metadata": {},
   "outputs": [
    {
     "name": "stdout",
     "output_type": "stream",
     "text": [
      "-\n",
      "Government of India\n",
      "Download Date: 15/04/2021\n",
      "238 80 2\n",
      "Beri Ravi Teja\n",
      "Issue Date: 10/04/2021\n",
      "Jejő /DOB: 19/11/2001\n",
      "JÓIDŐ/ MALE\n",
      "3242 2705 8909\n",
      "VID : 9138 1033 2641 9605\n"
     ]
    }
   ],
   "source": [
    "import time\n",
    "\n",
    "# Get ID from returned headers\n",
    "operationLocation = rawHttpResponse.headers[\"Operation-Location\"]\n",
    "operationId = operationLocation[-36:]  # or use slicing if fixed length\n",
    "\n",
    "# Poll for result\n",
    "while True:\n",
    "    result = client.get_read_result(operationId)\n",
    "    if result.status not in ['notStarted', 'running']:\n",
    "        break\n",
    "    time.sleep(1)\n",
    "\n",
    "# Extract and print text\n",
    "if result.status == OperationStatusCodes.succeeded:\n",
    "    for page in result.analyze_result.read_results:\n",
    "        for line in page.lines:\n",
    "            print(line.text)\n"
   ]
  },
  {
   "cell_type": "code",
   "execution_count": null,
   "id": "87727ff1",
   "metadata": {},
   "outputs": [],
   "source": []
  },
  {
   "cell_type": "code",
   "execution_count": null,
   "id": "151abf5f",
   "metadata": {},
   "outputs": [],
   "source": []
  }
 ],
 "metadata": {
  "kernelspec": {
   "display_name": "base",
   "language": "python",
   "name": "python3"
  },
  "language_info": {
   "codemirror_mode": {
    "name": "ipython",
    "version": 3
   },
   "file_extension": ".py",
   "mimetype": "text/x-python",
   "name": "python",
   "nbconvert_exporter": "python",
   "pygments_lexer": "ipython3",
   "version": "3.12.7"
  }
 },
 "nbformat": 4,
 "nbformat_minor": 5
}
